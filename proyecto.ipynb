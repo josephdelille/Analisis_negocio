{
 "cells": [
  {
   "cell_type": "markdown",
   "id": "b5f63fbebf37ab02",
   "metadata": {},
   "source": [
    "# Analisis de negocio"
   ]
  },
  {
   "cell_type": "markdown",
   "id": "2efce50f41bfd329",
   "metadata": {},
   "source": [
    "En este proyecto realizaremos un proceso completo de analisis de conversion de eventos y de pruebas A/B"
   ]
  },
  {
   "cell_type": "markdown",
   "id": "428aded089182e8",
   "metadata": {},
   "source": [
    "## Parte 1. Importación y corrección de datos"
   ]
  },
  {
   "cell_type": "code",
   "execution_count": 41,
   "id": "initial_id",
   "metadata": {
    "ExecuteTime": {
     "end_time": "2025-04-09T20:33:29.445289Z",
     "start_time": "2025-04-09T20:33:29.439635Z"
    },
    "collapsed": true
   },
   "outputs": [],
   "source": [
    "# importación de librerias pertinentes\n",
    "import pandas as pd\n",
    "import matplotlib.pyplot as plt\n",
    "from statsmodels.stats.proportion import proportions_ztest"
   ]
  },
  {
   "cell_type": "code",
   "execution_count": 2,
   "id": "268f3acd8d89f1f1",
   "metadata": {
    "ExecuteTime": {
     "end_time": "2025-04-09T18:23:49.654091Z",
     "start_time": "2025-04-09T18:23:49.419243Z"
    }
   },
   "outputs": [
    {
     "name": "stdout",
     "output_type": "stream",
     "text": [
      "                 EventName         DeviceIDHash  EventTimestamp  ExpId\n",
      "0         MainScreenAppear  4575588528974610257      1564029816    246\n",
      "1         MainScreenAppear  7416695313311560658      1564053102    246\n",
      "2  PaymentScreenSuccessful  3518123091307005509      1564054127    248\n",
      "3         CartScreenAppear  3518123091307005509      1564054127    248\n",
      "4  PaymentScreenSuccessful  6217807653094995999      1564055322    248\n",
      "<class 'pandas.core.frame.DataFrame'>\n",
      "RangeIndex: 244126 entries, 0 to 244125\n",
      "Data columns (total 4 columns):\n",
      " #   Column          Non-Null Count   Dtype \n",
      "---  ------          --------------   ----- \n",
      " 0   EventName       244126 non-null  object\n",
      " 1   DeviceIDHash    244126 non-null  int64 \n",
      " 2   EventTimestamp  244126 non-null  int64 \n",
      " 3   ExpId           244126 non-null  int64 \n",
      "dtypes: int64(3), object(1)\n",
      "memory usage: 7.5+ MB\n",
      "None\n"
     ]
    }
   ],
   "source": [
    "# importación y revision inicial de los datos\n",
    "ordenes = pd.read_csv('logs_exp_us.csv', sep='\\t')\n",
    "print(ordenes.head())\n",
    "print(ordenes.info())"
   ]
  },
  {
   "cell_type": "code",
   "execution_count": 3,
   "id": "3c165a92bae90a04",
   "metadata": {
    "ExecuteTime": {
     "end_time": "2025-04-09T18:23:50.676959Z",
     "start_time": "2025-04-09T18:23:50.559108Z"
    }
   },
   "outputs": [
    {
     "name": "stdout",
     "output_type": "stream",
     "text": [
      "244121   2019-08-07 21:12:25\n",
      "244122   2019-08-07 21:13:59\n",
      "244123   2019-08-07 21:14:43\n",
      "244124   2019-08-07 21:14:58\n",
      "244125   2019-08-07 21:15:17\n",
      "Name: EventTimestamp, dtype: datetime64[ns]\n",
      "244121    2019-08-07\n",
      "244122    2019-08-07\n",
      "244123    2019-08-07\n",
      "244124    2019-08-07\n",
      "244125    2019-08-07\n",
      "Name: EventDate, dtype: object\n"
     ]
    }
   ],
   "source": [
    "# conversión de datos de objeto a fecha\n",
    "ordenes['EventTimestamp'] = pd.to_datetime(ordenes['EventTimestamp'], unit='s')\n",
    "print(ordenes['EventTimestamp'].tail())\n",
    "\n",
    "# creación de columna en el que se almacena solo la fecha del evento\n",
    "ordenes['EventDate'] = pd.to_datetime(ordenes['EventTimestamp'], unit='s').dt.date\n",
    "print(ordenes['EventDate'].tail())"
   ]
  },
  {
   "cell_type": "markdown",
   "id": "86291f96014dd0c3",
   "metadata": {},
   "source": [
    "## Parte 3. Estudio de los datos"
   ]
  },
  {
   "cell_type": "code",
   "execution_count": 44,
   "id": "ab94f7efa189f262",
   "metadata": {
    "ExecuteTime": {
     "end_time": "2025-04-09T20:43:12.565615Z",
     "start_time": "2025-04-09T20:43:12.512279Z"
    }
   },
   "outputs": [
    {
     "name": "stdout",
     "output_type": "stream",
     "text": [
      "Numero de eventos unicos: 5\n",
      "Numero de usuarios unicos: 7551\n"
     ]
    }
   ],
   "source": [
    "print(f\"Numero de eventos unicos: {ordenes['EventName'].nunique()}\")\n",
    "print(f\"Numero de usuarios unicos: {ordenes['DeviceIDHash'].nunique()}\")"
   ]
  },
  {
   "cell_type": "code",
   "execution_count": 46,
   "id": "7f0eb3bf2a5a514f",
   "metadata": {
    "ExecuteTime": {
     "end_time": "2025-04-09T20:44:10.783132Z",
     "start_time": "2025-04-09T20:44:10.743095Z"
    }
   },
   "outputs": [
    {
     "name": "stdout",
     "output_type": "stream",
     "text": [
      "Promedio de eventos por usuario: 32.33028737915508\n"
     ]
    }
   ],
   "source": [
    "promedio_eventos = ordenes.groupby('DeviceIDHash').size().mean()\n",
    "print(f\"Promedio de eventos por usuario: {promedio_eventos}\")"
   ]
  },
  {
   "cell_type": "code",
   "execution_count": 47,
   "id": "2bdec1a4d9b149cb",
   "metadata": {
    "ExecuteTime": {
     "end_time": "2025-04-09T20:45:20.636446Z",
     "start_time": "2025-04-09T20:45:20.602509Z"
    }
   },
   "outputs": [
    {
     "name": "stdout",
     "output_type": "stream",
     "text": [
      "Primer registro de evento: 2019-07-25 04:43:36\n",
      "Ultimo registro de evento: 2019-08-07 21:15:17\n"
     ]
    }
   ],
   "source": [
    "print(f\"Primer registro de evento: {ordenes['EventTimestamp'].min()}\")\n",
    "print(f\"Ultimo registro de evento: {ordenes['EventTimestamp'].max()}\")"
   ]
  },
  {
   "cell_type": "code",
   "execution_count": 48,
   "id": "c496d13fa1c10eb1",
   "metadata": {
    "ExecuteTime": {
     "end_time": "2025-04-09T20:45:55.585668Z",
     "start_time": "2025-04-09T20:45:55.306951Z"
    }
   },
   "outputs": [
    {
     "data": {
      "image/png": "[encoded data removed]",
      "text/plain": [
       "<Figure size 640x480 with 1 Axes>"
      ]
     },
     "metadata": {},
     "output_type": "display_data"
    }
   ],
   "source": [
    "plt.hist(ordenes['EventTimestamp'],bins=15)\n",
    "plt.xticks(rotation=45)\n",
    "plt.xlabel('Fecha')\n",
    "plt.ylabel('Frecuencia')\n",
    "plt.show()"
   ]
  },
  {
   "cell_type": "code",
   "execution_count": 49,
   "id": "228a2d77cadd3bc0",
   "metadata": {
    "ExecuteTime": {
     "end_time": "2025-04-09T20:47:24.808926Z",
     "start_time": "2025-04-09T20:47:24.738492Z"
    }
   },
   "outputs": [
    {
     "name": "stdout",
     "output_type": "stream",
     "text": [
      "<class 'pandas.core.frame.DataFrame'>\n",
      "Index: 243329 entries, 797 to 244125\n",
      "Data columns (total 5 columns):\n",
      " #   Column          Non-Null Count   Dtype         \n",
      "---  ------          --------------   -----         \n",
      " 0   EventName       243329 non-null  object        \n",
      " 1   DeviceIDHash    243329 non-null  int64         \n",
      " 2   EventTimestamp  243329 non-null  datetime64[ns]\n",
      " 3   ExpId           243329 non-null  int64         \n",
      " 4   EventDate       243329 non-null  object        \n",
      "dtypes: datetime64[ns](1), int64(2), object(2)\n",
      "memory usage: 11.1+ MB\n",
      "None\n"
     ]
    }
   ],
   "source": [
    "# Creación de df que contemple únicamente los eventos en fechas pertinentes\n",
    "ordenes_2 = ordenes[ordenes['EventTimestamp'] >= '2019-07-31']\n",
    "print(ordenes_2.info())"
   ]
  },
  {
   "cell_type": "markdown",
   "id": "9b5512e81169d06e",
   "metadata": {},
   "source": [
    "Se perdieron al rededor de 1000 registros, aceptable para la continuación del estudio y análisis de datos"
   ]
  },
  {
   "cell_type": "code",
   "execution_count": 50,
   "id": "279e1ab337d2b1c9",
   "metadata": {
    "ExecuteTime": {
     "end_time": "2025-04-09T20:49:02.267785Z",
     "start_time": "2025-04-09T20:49:02.258252Z"
    }
   },
   "outputs": [
    {
     "name": "stdout",
     "output_type": "stream",
     "text": [
      "Grupos de experimento en el nuevo df: 3\n"
     ]
    }
   ],
   "source": [
    "print(f\"Grupos de experimento en el nuevo df: {ordenes_2['ExpId'].nunique()}\")"
   ]
  },
  {
   "cell_type": "markdown",
   "id": "2b8716df1764b17d",
   "metadata": {},
   "source": [
    "## Parte 4. Embudo de eventos"
   ]
  },
  {
   "cell_type": "code",
   "execution_count": 51,
   "id": "60b7c82fcddb04c3",
   "metadata": {
    "ExecuteTime": {
     "end_time": "2025-04-09T20:49:30.395335Z",
     "start_time": "2025-04-09T20:49:30.352211Z"
    }
   },
   "outputs": [
    {
     "name": "stdout",
     "output_type": "stream",
     "text": [
      "EventName\n",
      "MainScreenAppear           118681\n",
      "OffersScreenAppear          46724\n",
      "CartScreenAppear            42623\n",
      "PaymentScreenSuccessful     34253\n",
      "Tutorial                     1048\n",
      "Name: count, dtype: int64\n"
     ]
    }
   ],
   "source": [
    "# Evento con mayor frecuencia\n",
    "EventRep = ordenes_2['EventName'].value_counts()\n",
    "print(EventRep)"
   ]
  },
  {
   "cell_type": "code",
   "execution_count": 19,
   "id": "40f3509816d113fb",
   "metadata": {
    "ExecuteTime": {
     "end_time": "2025-04-09T18:35:25.133867Z",
     "start_time": "2025-04-09T18:35:25.079095Z"
    }
   },
   "outputs": [
    {
     "name": "stdout",
     "output_type": "stream",
     "text": [
      "EventName\n",
      "MainScreenAppear           7429\n",
      "OffersScreenAppear         4606\n",
      "CartScreenAppear           3742\n",
      "PaymentScreenSuccessful    3542\n",
      "Tutorial                    845\n",
      "Name: DeviceIDHash, dtype: int64\n"
     ]
    }
   ],
   "source": [
    "# Usuarios únicos por evento\n",
    "users_per_event = ordenes_2.groupby('EventName')['DeviceIDHash'].nunique().sort_values(ascending=False)\n",
    "print(users_per_event)"
   ]
  },
  {
   "cell_type": "code",
   "execution_count": 20,
   "id": "d935dd82ca4ac379",
   "metadata": {
    "ExecuteTime": {
     "end_time": "2025-04-09T18:36:33.766034Z",
     "start_time": "2025-04-09T18:36:33.749039Z"
    }
   },
   "outputs": [
    {
     "name": "stdout",
     "output_type": "stream",
     "text": [
      "EventName\n",
      "MainScreenAppear           0.985017\n",
      "OffersScreenAppear         0.610713\n",
      "CartScreenAppear           0.496155\n",
      "PaymentScreenSuccessful    0.469637\n",
      "Tutorial                   0.112039\n",
      "Name: DeviceIDHash, dtype: float64\n"
     ]
    }
   ],
   "source": [
    "# Proporción de usuarios unicos por evento\n",
    "total_users = ordenes_2['DeviceIDHash'].nunique()\n",
    "proportion = (users_per_event / total_users).sort_values(ascending=False)\n",
    "print(proportion)"
   ]
  },
  {
   "cell_type": "markdown",
   "id": "58aaabbcc3f25cb4",
   "metadata": {},
   "source": [
    "Parece ser que la si siguen una secuencia, salvo Tutorial, que podria ser parte o no, y la secuencia parace ser:\n",
    "- MainScreenAppear\n",
    "- OfferScreenAppear\n",
    "- CartScreenAppear\n",
    "- PaymentScreenSuccessful"
   ]
  },
  {
   "cell_type": "code",
   "execution_count": 26,
   "id": "2abbb5dd4d5e328f",
   "metadata": {
    "ExecuteTime": {
     "end_time": "2025-04-09T18:55:05.911406Z",
     "start_time": "2025-04-09T18:55:05.277974Z"
    }
   },
   "outputs": [
    {
     "name": "stdout",
     "output_type": "stream",
     "text": [
      "Usuarios en MainScreenAppear: 7429\n",
      "Usuarios en OffersScreenAppear (de los que hicieron A): 4497 → Proporción: 60.53%\n",
      "Usuarios en CartScreenAppear (de los que hicieron B): 3685 → Proporción: 81.94%\n",
      "Usuarios en PaymentScreenSuccessful (de los que hicieron B): 3537 → Proporción: 95.98%\n"
     ]
    }
   ],
   "source": [
    "# Filtrar los eventos relevantes\n",
    "funnel_steps = ['MainScreenAppear', 'OffersScreenAppear', 'CartScreenAppear', 'PaymentScreenSuccessful']\n",
    "funnel_df = ordenes_2[ordenes_2['EventName'].isin(funnel_steps)]\n",
    "\n",
    "# Crear un DataFrame con usuarios y eventos únicos que realizaron\n",
    "user_events = funnel_df.groupby('DeviceIDHash')['EventName'].unique()\n",
    "\n",
    "# Paso 3: Chequear presencia en cada etapa\n",
    "funnel_data = {\n",
    "    'MainScreenAppear': user_events.apply(lambda x: 'MainScreenAppear' in x),\n",
    "    'OffersScreenAppear': user_events.apply(lambda x: 'OffersScreenAppear' in x),\n",
    "    'CartScreenAppear': user_events.apply(lambda x: 'CartScreenAppear' in x),\n",
    "    'PaymentScreenSuccessful': user_events.apply(lambda x: 'PaymentScreenSuccessful' in x)\n",
    "}\n",
    "\n",
    "funnel_df_bool = pd.DataFrame(funnel_data)\n",
    "\n",
    "# Paso 4: Conteos\n",
    "step_A = funnel_df_bool['MainScreenAppear'].sum()\n",
    "step_B = (funnel_df_bool['OffersScreenAppear'] & funnel_df_bool['MainScreenAppear']).sum()\n",
    "step_C = (funnel_df_bool['OffersScreenAppear'] & funnel_df_bool['CartScreenAppear']).sum()\n",
    "step_D = (funnel_df_bool['CartScreenAppear'] & funnel_df_bool['PaymentScreenSuccessful']).sum()\n",
    "\n",
    "# Paso 5: Cálculo de proporciones\n",
    "prop_AB = step_B / step_A if step_A else 0\n",
    "prop_BC = step_C / step_B if step_B else 0\n",
    "prop_CD = step_D / step_C if step_C else 0\n",
    "\n",
    "# Mostrar resultados\n",
    "print(f\"Usuarios en MainScreenAppear: {step_A}\")\n",
    "print(f\"Usuarios en OffersScreenAppear (de los que hicieron A): {step_B} → Proporción: {prop_AB:.2%}\")\n",
    "print(f\"Usuarios en CartScreenAppear (de los que hicieron B): {step_C} → Proporción: {prop_BC:.2%}\")\n",
    "print(f\"Usuarios en PaymentScreenSuccessful (de los que hicieron B): {step_D} → Proporción: {prop_CD:.2%}\")"
   ]
  },
  {
   "cell_type": "code",
   "execution_count": 54,
   "id": "58e0c39e72faef1",
   "metadata": {
    "ExecuteTime": {
     "end_time": "2025-04-09T20:55:15.643891Z",
     "start_time": "2025-04-09T20:55:15.637126Z"
    }
   },
   "outputs": [
    {
     "name": "stdout",
     "output_type": "stream",
     "text": [
      "Proporción de usuarios que completaron el proceso completo: 0.4761071476645578%\n"
     ]
    }
   ],
   "source": [
    "print(f\"Proporción de usuarios que completaron el proceso completo: {3537/7429}%\")"
   ]
  },
  {
   "cell_type": "markdown",
   "id": "24c75582f0849ac5",
   "metadata": {},
   "source": [
    "## Parte 5. Resultados de los experimentos"
   ]
  },
  {
   "cell_type": "code",
   "execution_count": 55,
   "id": "5c4739a57adab82b",
   "metadata": {
    "ExecuteTime": {
     "end_time": "2025-04-09T20:56:02.501095Z",
     "start_time": "2025-04-09T20:56:02.443322Z"
    }
   },
   "outputs": [
    {
     "name": "stdout",
     "output_type": "stream",
     "text": [
      "Numero de usuarios unicos por grupo: ExpId\n",
      "248    2540\n",
      "247    2517\n",
      "246    2485\n",
      "Name: DeviceIDHash, dtype: int64\n"
     ]
    }
   ],
   "source": [
    "print(f\"Numero de usuarios unicos por grupo: {ordenes_2.groupby('ExpId')['DeviceIDHash'].nunique().sort_values(ascending=False)}\")"
   ]
  },
  {
   "cell_type": "code",
   "execution_count": 32,
   "id": "321d6f5822d361d8",
   "metadata": {
    "ExecuteTime": {
     "end_time": "2025-04-09T19:57:11.626371Z",
     "start_time": "2025-04-09T19:57:11.539971Z"
    }
   },
   "outputs": [
    {
     "name": "stdout",
     "output_type": "stream",
     "text": [
      "Tasa de conversión Grupo 246: 48.29%\n",
      "Tasa de conversión Grupo 247: 46.05%\n",
      "p-valor: 0.1121\n"
     ]
    }
   ],
   "source": [
    "#Conversiones de cada grupo de control\n",
    "\n",
    "group_246 = ordenes_2[ordenes_2['ExpId'] == 246]\n",
    "group_247 = ordenes_2[ordenes_2['ExpId'] == 247]\n",
    "\n",
    "def get_conversion_rate(df_group):\n",
    "    total_users = df_group['DeviceIDHash'].nunique()\n",
    "    converted_users = df_group[df_group['EventName'] == 'PaymentScreenSuccessful']['DeviceIDHash'].nunique()\n",
    "    return converted_users, total_users, converted_users / total_users\n",
    "\n",
    "converted_246, total_246, rate_246 = get_conversion_rate(group_246)\n",
    "converted_247, total_247, rate_247 = get_conversion_rate(group_247)\n",
    "\n",
    "# Valores para z-test\n",
    "successes = [converted_246, converted_247]\n",
    "totals = [total_246, total_247]\n",
    "\n",
    "stat, pval = proportions_ztest(successes, totals)\n",
    "\n",
    "print(f\"Tasa de conversión Grupo 246: {rate_246:.2%}\")\n",
    "print(f\"Tasa de conversión Grupo 247: {rate_247:.2%}\")\n",
    "print(f\"p-valor: {pval:.4f}\")"
   ]
  },
  {
   "cell_type": "code",
   "execution_count": 37,
   "id": "a1f55740a11c3e8",
   "metadata": {
    "ExecuteTime": {
     "end_time": "2025-04-09T20:31:05.596531Z",
     "start_time": "2025-04-09T20:31:05.587079Z"
    }
   },
   "outputs": [],
   "source": [
    "#Funcion para calcular si existe diferencia estadística significativa entre los eventos de dos grupos\n",
    "\n",
    "def test_event_difference(df, event_name, group_col='ExpId', user_col='DeviceIDHash', control_ids=(246, 247)):\n",
    "    results = {}\n",
    "    # Filtrar por grupos\n",
    "    group_1 = df[df[group_col] == control_ids[0]]\n",
    "    group_2 = df[df[group_col] == control_ids[1]]\n",
    "\n",
    "    # Total de usuarios únicos por grupo\n",
    "    total_1 = group_1[user_col].nunique()\n",
    "    total_2 = group_2[user_col].nunique()\n",
    "\n",
    "    # Usuarios que hicieron el evento\n",
    "    users_event_1 = group_1[group_1['EventName'] == event_name][user_col].nunique()\n",
    "    users_event_2 = group_2[group_2['EventName'] == event_name][user_col].nunique()\n",
    "\n",
    "    # Proporciones\n",
    "    prop_1 = users_event_1 / total_1\n",
    "    prop_2 = users_event_2 / total_2\n",
    "\n",
    "    # Prueba z\n",
    "    count = [users_event_1, users_event_2]\n",
    "    nobs = [total_1, total_2]\n",
    "    stat, pval = proportions_ztest(count, nobs)\n",
    "\n",
    "    results['event'] = event_name\n",
    "    results['users_group1'] = users_event_1\n",
    "    results['users_group2'] = users_event_2\n",
    "    results['prop_group1'] = prop_1\n",
    "    results['prop_group2'] = prop_2\n",
    "    results['p_value'] = pval\n",
    "    results['significant'] = pval < 0.05\n",
    "\n",
    "    return results"
   ]
  },
  {
   "cell_type": "code",
   "execution_count": 38,
   "id": "42a6a42978d2c419",
   "metadata": {
    "ExecuteTime": {
     "end_time": "2025-04-09T20:31:07.683935Z",
     "start_time": "2025-04-09T20:31:07.245720Z"
    }
   },
   "outputs": [
    {
     "name": "stdout",
     "output_type": "stream",
     "text": [
      "                     event  users_group1  users_group2  prop_group1  \\\n",
      "3  PaymentScreenSuccessful          1200          1159     0.482897   \n",
      "4         CartScreenAppear          1267          1239     0.509859   \n",
      "1       OffersScreenAppear          1544          1526     0.621328   \n",
      "0         MainScreenAppear          2452          2479     0.986720   \n",
      "2                 Tutorial           278           285     0.111871   \n",
      "\n",
      "   prop_group2   p_value  significant  \n",
      "3     0.460469  0.112108        False  \n",
      "4     0.492253  0.213061        False  \n",
      "1     0.606277  0.274351        False  \n",
      "0     0.984903  0.586878        False  \n",
      "2     0.113230  0.879161        False  \n"
     ]
    }
   ],
   "source": [
    "# Obtener todos los eventos únicos\n",
    "unique_events = ordenes_2['EventName'].unique()\n",
    "\n",
    "# Ejecutar la prueba para cada evento\n",
    "event_results1 = [test_event_difference(ordenes_2, event) for event in unique_events]\n",
    "\n",
    "# Convertir en DataFrame\n",
    "event_results_df1 = pd.DataFrame(event_results1).sort_values(by='p_value')\n",
    "\n",
    "# Mostrar tabla\n",
    "print(event_results_df1)"
   ]
  },
  {
   "cell_type": "code",
   "execution_count": 39,
   "id": "921c56b92394d907",
   "metadata": {
    "ExecuteTime": {
     "end_time": "2025-04-09T20:31:12.871087Z",
     "start_time": "2025-04-09T20:31:12.611174Z"
    }
   },
   "outputs": [
    {
     "name": "stdout",
     "output_type": "stream",
     "text": [
      "                     event  users_group1  users_group2  prop_group1  \\\n",
      "4         CartScreenAppear          1267          1236     0.509859   \n",
      "3  PaymentScreenSuccessful          1200          1183     0.482897   \n",
      "1       OffersScreenAppear          1544          1536     0.621328   \n",
      "0         MainScreenAppear          2452          2498     0.986720   \n",
      "2                 Tutorial           278           282     0.111871   \n",
      "\n",
      "   prop_group2   p_value  significant  \n",
      "4     0.486614  0.099417        False  \n",
      "3     0.465748  0.223522        False  \n",
      "1     0.604724  0.226997        False  \n",
      "0     0.983465  0.341286        False  \n",
      "2     0.111024  0.923947        False  \n"
     ]
    }
   ],
   "source": [
    "event_results2 = [test_event_difference(ordenes_2, event, group_col='ExpId', user_col='DeviceIDHash', control_ids=(246, 248)) for event in unique_events]\n",
    "event_results_df2 = pd.DataFrame(event_results2).sort_values(by='p_value')\n",
    "print(event_results_df2)"
   ]
  },
  {
   "cell_type": "code",
   "execution_count": 40,
   "id": "18557b93163b273a",
   "metadata": {
    "ExecuteTime": {
     "end_time": "2025-04-09T20:31:16.008078Z",
     "start_time": "2025-04-09T20:31:15.788304Z"
    }
   },
   "outputs": [
    {
     "name": "stdout",
     "output_type": "stream",
     "text": [
      "                     event  users_group1  users_group2  prop_group1  \\\n",
      "0         MainScreenAppear          2479          2498     0.984903   \n",
      "4         CartScreenAppear          1239          1236     0.492253   \n",
      "3  PaymentScreenSuccessful          1159          1183     0.460469   \n",
      "2                 Tutorial           285           282     0.113230   \n",
      "1       OffersScreenAppear          1526          1536     0.606277   \n",
      "\n",
      "   prop_group2   p_value  significant  \n",
      "0     0.983465  0.681958        False  \n",
      "4     0.486614  0.688380        False  \n",
      "3     0.465748  0.706589        False  \n",
      "2     0.111024  0.803637        False  \n",
      "1     0.604724  0.910052        False  \n"
     ]
    }
   ],
   "source": [
    "event_results3 = [test_event_difference(ordenes_2, event, group_col='ExpId', user_col='DeviceIDHash', control_ids=(247, 248)) for event in unique_events]\n",
    "event_results_df3 = pd.DataFrame(event_results3).sort_values(by='p_value')\n",
    "print(event_results_df3)"
   ]
  },
  {
   "cell_type": "markdown",
   "id": "b313793c8700d75f",
   "metadata": {},
   "source": [
    "Con un nivel de significancia estadística del 0.05, podemos ver que no existe diferencia significativa entre grupos de control y el grupo con modificación, lo que significa que esperamos que haya menos de 1 error por azar en las pruebas que realizamos, exactamente se esperan 0.75 errores"
   ]
  },
  {
   "cell_type": "markdown",
   "id": "241ed31727af91ae",
   "metadata": {},
   "source": [
    "# Conclusiones"
   ]
  },
  {
   "cell_type": "markdown",
   "id": "52b6810fdf8eb6c1",
   "metadata": {},
   "source": [
    "Se llevo a cabo un procedimiento completo de analisis de negocio, en el que se utilizaron conocimientos de: 1.Procesamiento de datos 2.Analisis inicial de datos 3.Analisis estadistico 4.Analisis de negocio.\n",
    "\n",
    "Con los resultados obtenidos podemos afirmar que la tasa de conversion es aproximada al 50% de los usuarios que interactuan con el servicio, y que las modificaciones en los procesos que llevan a la conversion no son los suficientes para ver un cambio significativo en la conversion"
   ]
  }
 ],
 "metadata": {
  "kernelspec": {
   "display_name": "Python 3",
   "language": "python",
   "name": "python3"
  },
  "language_info": {
   "codemirror_mode": {
    "name": "ipython",
    "version": 2
   },
   "file_extension": ".py",
   "mimetype": "text/x-python",
   "name": "python",
   "nbconvert_exporter": "python",
   "pygments_lexer": "ipython2",
   "version": "2.7.6"
  }
 },
 "nbformat": 4,
 "nbformat_minor": 5
}
